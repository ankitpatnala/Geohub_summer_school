{
 "cells": [
  {
   "cell_type": "code",
   "execution_count": 1,
   "id": "25f7a1dc",
   "metadata": {},
   "outputs": [],
   "source": [
    "from pyarrow import fs\n",
    "import pyarrow.parquet as pq\n",
    "from sklearn.ensemble import RandomForestClassifier\n",
    "from sklearn.metrics import classification_report\n",
    "import pandas as pd\n",
    "import numpy as np\n",
    "import matplotlib.pyplot as plt"
   ]
  },
  {
   "cell_type": "code",
   "execution_count": 2,
   "id": "effb9d5f",
   "metadata": {},
   "outputs": [],
   "source": [
    "scheme = 'https'\n",
    "endpoint = \"s3.eu-central-1.wasabisys.com\"\n",
    "bucket = 'global-pastures'\n",
    "httpfs = fs.S3FileSystem(scheme=scheme, endpoint_override=endpoint)\n",
    "\n",
    "train_path = 'samples/lcv_pasture_classif.matrix.train_2000..2020_brazil.eumap_summer.school.2022.pq'\n",
    "val_path = 'samples/lcv_pasture_classif.matrix.val_2000..2020_brazil.eumap_summer.school.2022.pq'\n",
    "test_path = 'samples/lcv_pasture_classif.matrix.test_2000..2020_brazil.eumap_summer.school.2022.pq'"
   ]
  },
  {
   "cell_type": "code",
   "execution_count": 3,
   "id": "c19ccae6",
   "metadata": {},
   "outputs": [
    {
     "name": "stdout",
     "output_type": "stream",
     "text": [
      "Reading data\n",
      " Train: (1552, 373)\n",
      " Val: (1167, 373)\n",
      " Test: (1311, 370)\n"
     ]
    }
   ],
   "source": [
    "print(\"Reading data\")\n",
    "\n",
    "train_data = pq.ParquetDataset(f'{bucket}/{train_path}', filesystem=httpfs).read().to_pandas()\n",
    "print(f' Train: {train_data.shape}')\n",
    "\n",
    "val_data = pq.ParquetDataset(f'{bucket}/{val_path}', filesystem=httpfs).read().to_pandas()\n",
    "print(f' Val: {val_data.shape}')\n",
    "\n",
    "test_data = pq.ParquetDataset(f'{bucket}/{test_path}', filesystem=httpfs).read().to_pandas()\n",
    "print(f' Test: {test_data.shape}')"
   ]
  },
  {
   "cell_type": "code",
   "execution_count": 4,
   "id": "40fe2399",
   "metadata": {},
   "outputs": [
    {
     "name": "stdout",
     "output_type": "stream",
     "text": [
      "Training samples per class:\n",
      "\n",
      "3-Others                           1055\n",
      "1-Seeded grass                      356\n",
      "2-Natural or semi-natural grass     141\n",
      "Name: class_label, dtype: int64\n"
     ]
    }
   ],
   "source": [
    "target_col = 'class'\n",
    "label_col = 'class_label'\n",
    "train_data[label_col] = train_data[target_col].astype(str).str.cat(train_data[label_col], sep = \"-\")\n",
    "print(\"Training samples per class:\\n\")\n",
    "print(train_data[label_col].value_counts())"
   ]
  },
  {
   "cell_type": "code",
   "execution_count": 5,
   "id": "3bf77ac3",
   "metadata": {},
   "outputs": [
    {
     "name": "stdout",
     "output_type": "stream",
     "text": [
      "There are 364 features available to the model\n"
     ]
    }
   ],
   "source": [
    "cov_idx = (list(train_data.columns).index(label_col) + 1)\n",
    "covs = train_data.columns[cov_idx:]\n",
    "print(f'There are {len(covs)} features available to the model')"
   ]
  },
  {
   "cell_type": "markdown",
   "id": "5c5ffc8d",
   "metadata": {},
   "source": [
    "- Eliminate correlated features\n",
    "- Backward feature selection\n",
    "- Forward feature selection"
   ]
  },
  {
   "cell_type": "markdown",
   "id": "acc8f043",
   "metadata": {},
   "source": [
    "# Eliminate correlated features"
   ]
  },
  {
   "cell_type": "code",
   "execution_count": 6,
   "id": "bf0d360e",
   "metadata": {},
   "outputs": [
    {
     "name": "stdout",
     "output_type": "stream",
     "text": [
      "Number of remaining features:  27 27\n"
     ]
    }
   ],
   "source": [
    "corr_matrix = train_data[covs].corr().abs() # Working on the X training data, no target\n",
    "upper_tri = corr_matrix.where(np.triu(np.ones(corr_matrix.shape),k=1).astype(bool))\n",
    "to_drop = [column for column in upper_tri.columns if any(upper_tri[column] > 0.6)] #Orig 0.95\n",
    "post_train_no_corr = train_data[covs].drop(to_drop, axis=1)\n",
    "post_val_no_corr = val_data[covs].drop(to_drop, axis=1)\n",
    "post_test_no_corr = test_data[covs].drop(to_drop, axis=1)\n",
    "print(\"Number of remaining features: \", len(post_train_no_corr.columns), len(post_val_no_corr.columns))"
   ]
  },
  {
   "cell_type": "code",
   "execution_count": 7,
   "id": "06e61054",
   "metadata": {},
   "outputs": [
    {
     "data": {
      "text/html": [
       "<style>#sk-container-id-1 {color: black;background-color: white;}#sk-container-id-1 pre{padding: 0;}#sk-container-id-1 div.sk-toggleable {background-color: white;}#sk-container-id-1 label.sk-toggleable__label {cursor: pointer;display: block;width: 100%;margin-bottom: 0;padding: 0.3em;box-sizing: border-box;text-align: center;}#sk-container-id-1 label.sk-toggleable__label-arrow:before {content: \"▸\";float: left;margin-right: 0.25em;color: #696969;}#sk-container-id-1 label.sk-toggleable__label-arrow:hover:before {color: black;}#sk-container-id-1 div.sk-estimator:hover label.sk-toggleable__label-arrow:before {color: black;}#sk-container-id-1 div.sk-toggleable__content {max-height: 0;max-width: 0;overflow: hidden;text-align: left;background-color: #f0f8ff;}#sk-container-id-1 div.sk-toggleable__content pre {margin: 0.2em;color: black;border-radius: 0.25em;background-color: #f0f8ff;}#sk-container-id-1 input.sk-toggleable__control:checked~div.sk-toggleable__content {max-height: 200px;max-width: 100%;overflow: auto;}#sk-container-id-1 input.sk-toggleable__control:checked~label.sk-toggleable__label-arrow:before {content: \"▾\";}#sk-container-id-1 div.sk-estimator input.sk-toggleable__control:checked~label.sk-toggleable__label {background-color: #d4ebff;}#sk-container-id-1 div.sk-label input.sk-toggleable__control:checked~label.sk-toggleable__label {background-color: #d4ebff;}#sk-container-id-1 input.sk-hidden--visually {border: 0;clip: rect(1px 1px 1px 1px);clip: rect(1px, 1px, 1px, 1px);height: 1px;margin: -1px;overflow: hidden;padding: 0;position: absolute;width: 1px;}#sk-container-id-1 div.sk-estimator {font-family: monospace;background-color: #f0f8ff;border: 1px dotted black;border-radius: 0.25em;box-sizing: border-box;margin-bottom: 0.5em;}#sk-container-id-1 div.sk-estimator:hover {background-color: #d4ebff;}#sk-container-id-1 div.sk-parallel-item::after {content: \"\";width: 100%;border-bottom: 1px solid gray;flex-grow: 1;}#sk-container-id-1 div.sk-label:hover label.sk-toggleable__label {background-color: #d4ebff;}#sk-container-id-1 div.sk-serial::before {content: \"\";position: absolute;border-left: 1px solid gray;box-sizing: border-box;top: 0;bottom: 0;left: 50%;z-index: 0;}#sk-container-id-1 div.sk-serial {display: flex;flex-direction: column;align-items: center;background-color: white;padding-right: 0.2em;padding-left: 0.2em;position: relative;}#sk-container-id-1 div.sk-item {position: relative;z-index: 1;}#sk-container-id-1 div.sk-parallel {display: flex;align-items: stretch;justify-content: center;background-color: white;position: relative;}#sk-container-id-1 div.sk-item::before, #sk-container-id-1 div.sk-parallel-item::before {content: \"\";position: absolute;border-left: 1px solid gray;box-sizing: border-box;top: 0;bottom: 0;left: 50%;z-index: -1;}#sk-container-id-1 div.sk-parallel-item {display: flex;flex-direction: column;z-index: 1;position: relative;background-color: white;}#sk-container-id-1 div.sk-parallel-item:first-child::after {align-self: flex-end;width: 50%;}#sk-container-id-1 div.sk-parallel-item:last-child::after {align-self: flex-start;width: 50%;}#sk-container-id-1 div.sk-parallel-item:only-child::after {width: 0;}#sk-container-id-1 div.sk-dashed-wrapped {border: 1px dashed gray;margin: 0 0.4em 0.5em 0.4em;box-sizing: border-box;padding-bottom: 0.4em;background-color: white;}#sk-container-id-1 div.sk-label label {font-family: monospace;font-weight: bold;display: inline-block;line-height: 1.2em;}#sk-container-id-1 div.sk-label-container {text-align: center;}#sk-container-id-1 div.sk-container {/* jupyter's `normalize.less` sets `[hidden] { display: none; }` but bootstrap.min.css set `[hidden] { display: none !important; }` so we also need the `!important` here to be able to override the default hidden behavior on the sphinx rendered scikit-learn.org. See: https://github.com/scikit-learn/scikit-learn/issues/21755 */display: inline-block !important;position: relative;}#sk-container-id-1 div.sk-text-repr-fallback {display: none;}</style><div id=\"sk-container-id-1\" class=\"sk-top-container\"><div class=\"sk-text-repr-fallback\"><pre>RandomForestClassifier(class_weight=&#x27;balanced_subsample&#x27;, random_state=1989)</pre><b>In a Jupyter environment, please rerun this cell to show the HTML representation or trust the notebook. <br />On GitHub, the HTML representation is unable to render, please try loading this page with nbviewer.org.</b></div><div class=\"sk-container\" hidden><div class=\"sk-item\"><div class=\"sk-estimator sk-toggleable\"><input class=\"sk-toggleable__control sk-hidden--visually\" id=\"sk-estimator-id-1\" type=\"checkbox\" checked><label for=\"sk-estimator-id-1\" class=\"sk-toggleable__label sk-toggleable__label-arrow\">RandomForestClassifier</label><div class=\"sk-toggleable__content\"><pre>RandomForestClassifier(class_weight=&#x27;balanced_subsample&#x27;, random_state=1989)</pre></div></div></div></div></div>"
      ],
      "text/plain": [
       "RandomForestClassifier(class_weight='balanced_subsample', random_state=1989)"
      ]
     },
     "execution_count": 7,
     "metadata": {},
     "output_type": "execute_result"
    }
   ],
   "source": [
    "X = post_train_no_corr#.to_numpy()\n",
    "y = train_data[target_col]#.to_numpy()\n",
    "\n",
    "rf = RandomForestClassifier(random_state=1989, class_weight='balanced_subsample')\n",
    "rf.fit(X, y)"
   ]
  },
  {
   "cell_type": "code",
   "execution_count": 8,
   "id": "9a71aa4f",
   "metadata": {},
   "outputs": [
    {
     "name": "stdout",
     "output_type": "stream",
     "text": [
      "                                 precision    recall  f1-score   support\n",
      "\n",
      "                 1-Seeded grass       0.82      0.58      0.68       205\n",
      "2-Natural or semi-natural grass       0.75      0.46      0.57       138\n",
      "                       3-Others       0.83      0.95      0.89       824\n",
      "\n",
      "                       accuracy                           0.83      1167\n",
      "                      macro avg       0.80      0.66      0.71      1167\n",
      "                   weighted avg       0.82      0.83      0.81      1167\n",
      "\n"
     ]
    }
   ],
   "source": [
    "val_expe = val_data[target_col]\n",
    "val_pred = rf.predict(post_val_no_corr)\n",
    "\n",
    "print(classification_report(val_expe, val_pred, target_names=sorted(list(train_data['class_label'].unique()))))"
   ]
  },
  {
   "cell_type": "code",
   "execution_count": 9,
   "id": "abe3664e",
   "metadata": {},
   "outputs": [
    {
     "data": {
      "text/plain": [
       "0.7136623521253127"
      ]
     },
     "execution_count": 9,
     "metadata": {},
     "output_type": "execute_result"
    }
   ],
   "source": [
    "report = classification_report(val_expe, val_pred, \n",
    "                      target_names=sorted(list(train_data['class_label'].unique())), \n",
    "                      output_dict=True)\n",
    "report[\"macro avg\"][\"f1-score\"]"
   ]
  },
  {
   "cell_type": "markdown",
   "id": "2ac517eb",
   "metadata": {},
   "source": [
    "# Feature importance"
   ]
  },
  {
   "cell_type": "code",
   "execution_count": 10,
   "id": "e676bbcc",
   "metadata": {},
   "outputs": [],
   "source": [
    "importances = rf.feature_importances_\n",
    "std = np.std([tree.feature_importances_ for tree in rf.estimators_], axis=0)\n",
    "forest_importances = pd.Series(importances, index=post_train_no_corr.columns)\n",
    "#fig, ax = plt.subplots()\n",
    "#forest_importances.plot.bar(yerr=std, ax=ax)\n",
    "#ax.set_title(\"Feature importances using MDI\")\n",
    "#ax.set_ylabel(\"Mean decrease in impurity\")\n",
    "#fig.tight_layout()"
   ]
  },
  {
   "cell_type": "markdown",
   "id": "faaf5f6f",
   "metadata": {},
   "source": [
    "# Backward Feature Selection"
   ]
  },
  {
   "cell_type": "code",
   "execution_count": 11,
   "id": "c07bb9a7",
   "metadata": {},
   "outputs": [],
   "source": [
    "x_t = post_train_no_corr.copy()\n",
    "x_v = post_val_no_corr.copy()\n",
    "benchmark_score = report[\"macro avg\"][\"f1-score\"] # Including all features\n",
    "imp = forest_importances.sort_values()\n",
    "score = []\n",
    "dropped_columns = []\n",
    "for droppy in imp.index: #13 is the highest score for 0.95 but this needs to be automated\n",
    "    x_t = x_t.drop(droppy, axis=1)\n",
    "    x_v = x_v.drop(droppy, axis=1)\n",
    "    if len(x_t.columns) < 1:\n",
    "        break\n",
    "    rf = RandomForestClassifier(random_state=1989, class_weight='balanced_subsample')\n",
    "    rf.fit(x_t, y)\n",
    "    val_pred = rf.predict(x_v)\n",
    "    cr = classification_report(val_expe, val_pred, \n",
    "                               target_names=sorted(list(train_data['class_label'].unique())), \n",
    "                               output_dict=True)\n",
    "    score.append(cr[\"macro avg\"][\"f1-score\"])\n",
    "    dropped_columns.append(droppy)\n",
    "    #print(cr[\"macro avg\"][\"f1-score\"])\n",
    "  "
   ]
  },
  {
   "cell_type": "markdown",
   "id": "6b47d8bd",
   "metadata": {},
   "source": [
    "Take best model found by backward feature selection"
   ]
  },
  {
   "cell_type": "code",
   "execution_count": 12,
   "id": "10594baf",
   "metadata": {},
   "outputs": [
    {
     "name": "stdout",
     "output_type": "stream",
     "text": [
      "Final number of columns: 21\n"
     ]
    }
   ],
   "source": [
    "idx_drop = np.argmax(score)\n",
    "#print(imp.index[0:idx_drop])\n",
    "x_t = post_train_no_corr.copy()\n",
    "x_train = x_t.drop(imp.index[0:idx_drop], axis=1)\n",
    "x_v = post_val_no_corr.copy()\n",
    "x_val = x_v.drop(imp.index[0:idx_drop], axis=1)\n",
    "print(\"Final number of columns:\", len(x_train.columns))"
   ]
  },
  {
   "cell_type": "code",
   "execution_count": 13,
   "id": "256c6cd2",
   "metadata": {},
   "outputs": [
    {
     "data": {
      "text/html": [
       "<style>#sk-container-id-2 {color: black;background-color: white;}#sk-container-id-2 pre{padding: 0;}#sk-container-id-2 div.sk-toggleable {background-color: white;}#sk-container-id-2 label.sk-toggleable__label {cursor: pointer;display: block;width: 100%;margin-bottom: 0;padding: 0.3em;box-sizing: border-box;text-align: center;}#sk-container-id-2 label.sk-toggleable__label-arrow:before {content: \"▸\";float: left;margin-right: 0.25em;color: #696969;}#sk-container-id-2 label.sk-toggleable__label-arrow:hover:before {color: black;}#sk-container-id-2 div.sk-estimator:hover label.sk-toggleable__label-arrow:before {color: black;}#sk-container-id-2 div.sk-toggleable__content {max-height: 0;max-width: 0;overflow: hidden;text-align: left;background-color: #f0f8ff;}#sk-container-id-2 div.sk-toggleable__content pre {margin: 0.2em;color: black;border-radius: 0.25em;background-color: #f0f8ff;}#sk-container-id-2 input.sk-toggleable__control:checked~div.sk-toggleable__content {max-height: 200px;max-width: 100%;overflow: auto;}#sk-container-id-2 input.sk-toggleable__control:checked~label.sk-toggleable__label-arrow:before {content: \"▾\";}#sk-container-id-2 div.sk-estimator input.sk-toggleable__control:checked~label.sk-toggleable__label {background-color: #d4ebff;}#sk-container-id-2 div.sk-label input.sk-toggleable__control:checked~label.sk-toggleable__label {background-color: #d4ebff;}#sk-container-id-2 input.sk-hidden--visually {border: 0;clip: rect(1px 1px 1px 1px);clip: rect(1px, 1px, 1px, 1px);height: 1px;margin: -1px;overflow: hidden;padding: 0;position: absolute;width: 1px;}#sk-container-id-2 div.sk-estimator {font-family: monospace;background-color: #f0f8ff;border: 1px dotted black;border-radius: 0.25em;box-sizing: border-box;margin-bottom: 0.5em;}#sk-container-id-2 div.sk-estimator:hover {background-color: #d4ebff;}#sk-container-id-2 div.sk-parallel-item::after {content: \"\";width: 100%;border-bottom: 1px solid gray;flex-grow: 1;}#sk-container-id-2 div.sk-label:hover label.sk-toggleable__label {background-color: #d4ebff;}#sk-container-id-2 div.sk-serial::before {content: \"\";position: absolute;border-left: 1px solid gray;box-sizing: border-box;top: 0;bottom: 0;left: 50%;z-index: 0;}#sk-container-id-2 div.sk-serial {display: flex;flex-direction: column;align-items: center;background-color: white;padding-right: 0.2em;padding-left: 0.2em;position: relative;}#sk-container-id-2 div.sk-item {position: relative;z-index: 1;}#sk-container-id-2 div.sk-parallel {display: flex;align-items: stretch;justify-content: center;background-color: white;position: relative;}#sk-container-id-2 div.sk-item::before, #sk-container-id-2 div.sk-parallel-item::before {content: \"\";position: absolute;border-left: 1px solid gray;box-sizing: border-box;top: 0;bottom: 0;left: 50%;z-index: -1;}#sk-container-id-2 div.sk-parallel-item {display: flex;flex-direction: column;z-index: 1;position: relative;background-color: white;}#sk-container-id-2 div.sk-parallel-item:first-child::after {align-self: flex-end;width: 50%;}#sk-container-id-2 div.sk-parallel-item:last-child::after {align-self: flex-start;width: 50%;}#sk-container-id-2 div.sk-parallel-item:only-child::after {width: 0;}#sk-container-id-2 div.sk-dashed-wrapped {border: 1px dashed gray;margin: 0 0.4em 0.5em 0.4em;box-sizing: border-box;padding-bottom: 0.4em;background-color: white;}#sk-container-id-2 div.sk-label label {font-family: monospace;font-weight: bold;display: inline-block;line-height: 1.2em;}#sk-container-id-2 div.sk-label-container {text-align: center;}#sk-container-id-2 div.sk-container {/* jupyter's `normalize.less` sets `[hidden] { display: none; }` but bootstrap.min.css set `[hidden] { display: none !important; }` so we also need the `!important` here to be able to override the default hidden behavior on the sphinx rendered scikit-learn.org. See: https://github.com/scikit-learn/scikit-learn/issues/21755 */display: inline-block !important;position: relative;}#sk-container-id-2 div.sk-text-repr-fallback {display: none;}</style><div id=\"sk-container-id-2\" class=\"sk-top-container\"><div class=\"sk-text-repr-fallback\"><pre>RandomForestClassifier(class_weight=&#x27;balanced_subsample&#x27;, random_state=1989)</pre><b>In a Jupyter environment, please rerun this cell to show the HTML representation or trust the notebook. <br />On GitHub, the HTML representation is unable to render, please try loading this page with nbviewer.org.</b></div><div class=\"sk-container\" hidden><div class=\"sk-item\"><div class=\"sk-estimator sk-toggleable\"><input class=\"sk-toggleable__control sk-hidden--visually\" id=\"sk-estimator-id-2\" type=\"checkbox\" checked><label for=\"sk-estimator-id-2\" class=\"sk-toggleable__label sk-toggleable__label-arrow\">RandomForestClassifier</label><div class=\"sk-toggleable__content\"><pre>RandomForestClassifier(class_weight=&#x27;balanced_subsample&#x27;, random_state=1989)</pre></div></div></div></div></div>"
      ],
      "text/plain": [
       "RandomForestClassifier(class_weight='balanced_subsample', random_state=1989)"
      ]
     },
     "execution_count": 13,
     "metadata": {},
     "output_type": "execute_result"
    }
   ],
   "source": [
    "X=x_train\n",
    "rf = RandomForestClassifier(random_state=1989, class_weight='balanced_subsample')\n",
    "rf.fit(X, y)"
   ]
  },
  {
   "cell_type": "code",
   "execution_count": 14,
   "id": "266894ce",
   "metadata": {},
   "outputs": [
    {
     "name": "stdout",
     "output_type": "stream",
     "text": [
      "                                 precision    recall  f1-score   support\n",
      "\n",
      "                 1-Seeded grass       0.79      0.60      0.68       205\n",
      "2-Natural or semi-natural grass       0.73      0.54      0.62       138\n",
      "                       3-Others       0.85      0.94      0.89       824\n",
      "\n",
      "                       accuracy                           0.83      1167\n",
      "                      macro avg       0.79      0.69      0.73      1167\n",
      "                   weighted avg       0.82      0.83      0.82      1167\n",
      "\n"
     ]
    }
   ],
   "source": [
    "val_pred = rf.predict(x_val)\n",
    "\n",
    "print(classification_report(val_expe, val_pred, target_names=sorted(list(train_data['class_label'].unique()))))"
   ]
  },
  {
   "cell_type": "code",
   "execution_count": 15,
   "id": "30bb23fb",
   "metadata": {},
   "outputs": [
    {
     "data": {
      "text/html": [
       "<div>\n",
       "<style scoped>\n",
       "    .dataframe tbody tr th:only-of-type {\n",
       "        vertical-align: middle;\n",
       "    }\n",
       "\n",
       "    .dataframe tbody tr th {\n",
       "        vertical-align: top;\n",
       "    }\n",
       "\n",
       "    .dataframe thead th {\n",
       "        text-align: right;\n",
       "    }\n",
       "</style>\n",
       "<table border=\"1\" class=\"dataframe\">\n",
       "  <thead>\n",
       "    <tr style=\"text-align: right;\">\n",
       "      <th></th>\n",
       "      <th>pred</th>\n",
       "      <th>id</th>\n",
       "    </tr>\n",
       "  </thead>\n",
       "  <tbody>\n",
       "    <tr>\n",
       "      <th>0</th>\n",
       "      <td>3</td>\n",
       "      <td>147396</td>\n",
       "    </tr>\n",
       "    <tr>\n",
       "      <th>1</th>\n",
       "      <td>3</td>\n",
       "      <td>147591</td>\n",
       "    </tr>\n",
       "    <tr>\n",
       "      <th>2</th>\n",
       "      <td>3</td>\n",
       "      <td>147597</td>\n",
       "    </tr>\n",
       "    <tr>\n",
       "      <th>3</th>\n",
       "      <td>3</td>\n",
       "      <td>147603</td>\n",
       "    </tr>\n",
       "    <tr>\n",
       "      <th>4</th>\n",
       "      <td>3</td>\n",
       "      <td>147609</td>\n",
       "    </tr>\n",
       "    <tr>\n",
       "      <th>...</th>\n",
       "      <td>...</td>\n",
       "      <td>...</td>\n",
       "    </tr>\n",
       "    <tr>\n",
       "      <th>1306</th>\n",
       "      <td>3</td>\n",
       "      <td>898573</td>\n",
       "    </tr>\n",
       "    <tr>\n",
       "      <th>1307</th>\n",
       "      <td>3</td>\n",
       "      <td>898579</td>\n",
       "    </tr>\n",
       "    <tr>\n",
       "      <th>1308</th>\n",
       "      <td>3</td>\n",
       "      <td>898706</td>\n",
       "    </tr>\n",
       "    <tr>\n",
       "      <th>1309</th>\n",
       "      <td>3</td>\n",
       "      <td>898713</td>\n",
       "    </tr>\n",
       "    <tr>\n",
       "      <th>1310</th>\n",
       "      <td>3</td>\n",
       "      <td>898737</td>\n",
       "    </tr>\n",
       "  </tbody>\n",
       "</table>\n",
       "<p>1311 rows × 2 columns</p>\n",
       "</div>"
      ],
      "text/plain": [
       "      pred      id\n",
       "0        3  147396\n",
       "1        3  147591\n",
       "2        3  147597\n",
       "3        3  147603\n",
       "4        3  147609\n",
       "...    ...     ...\n",
       "1306     3  898573\n",
       "1307     3  898579\n",
       "1308     3  898706\n",
       "1309     3  898713\n",
       "1310     3  898737\n",
       "\n",
       "[1311 rows x 2 columns]"
      ]
     },
     "execution_count": 15,
     "metadata": {},
     "output_type": "execute_result"
    }
   ],
   "source": [
    "x_test = post_test_no_corr.drop(imp.index[0:idx_drop], axis=1)\n",
    "test_pred = rf.predict(x_test)\n",
    "result = pd.DataFrame({ 'pred':test_pred, 'id': test_data.index })\n",
    "result"
   ]
  },
  {
   "cell_type": "markdown",
   "id": "7a2bcb12",
   "metadata": {},
   "source": [
    "Finally to store the results execute:"
   ]
  },
  {
   "cell_type": "code",
   "execution_count": 16,
   "id": "3f1c7f1a",
   "metadata": {},
   "outputs": [],
   "source": [
    "result.to_csv('scarlet_ankit.csv')"
   ]
  }
 ],
 "metadata": {
  "kernelspec": {
   "display_name": "Python 3",
   "language": "python",
   "name": "python3"
  },
  "language_info": {
   "codemirror_mode": {
    "name": "ipython",
    "version": 3
   },
   "file_extension": ".py",
   "mimetype": "text/x-python",
   "name": "python",
   "nbconvert_exporter": "python",
   "pygments_lexer": "ipython3",
   "version": "3.8.10"
  }
 },
 "nbformat": 4,
 "nbformat_minor": 5
}
