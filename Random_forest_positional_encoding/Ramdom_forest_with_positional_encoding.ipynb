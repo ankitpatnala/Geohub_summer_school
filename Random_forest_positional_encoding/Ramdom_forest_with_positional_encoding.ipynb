{
 "cells": [
  {
   "cell_type": "markdown",
   "id": "f028338c",
   "metadata": {},
   "source": [
    "## Load Packages"
   ]
  },
  {
   "cell_type": "code",
   "execution_count": 1,
   "id": "6d1445ba",
   "metadata": {},
   "outputs": [],
   "source": [
    "from pyarrow import fs\n",
    "import pyarrow.parquet as pq\n",
    "import pandas as pd\n",
    "import numpy as np"
   ]
  },
  {
   "cell_type": "markdown",
   "id": "c474eb04",
   "metadata": {},
   "source": [
    "## Read Data"
   ]
  },
  {
   "cell_type": "code",
   "execution_count": 2,
   "id": "e5c44822",
   "metadata": {},
   "outputs": [],
   "source": [
    "train_data  = f\"./data/lcv_pasture_classif.matrix.train_2000..2020_brazil.eumap_summer.school.2022.pq\"\n",
    "val_data = f\"./data/lcv_pasture_classif.matrix.val_2000..2020_brazil.eumap_summer.school.2022.pq\"\n",
    "test_data = f\"./data/lcv_pasture_classif.matrix.test_2000..2020_brazil.eumap_summer.school.2022.pq\""
   ]
  },
  {
   "cell_type": "markdown",
   "id": "1d4adfa8",
   "metadata": {},
   "source": [
    "## Convert to numpy"
   ]
  },
  {
   "cell_type": "code",
   "execution_count": 3,
   "id": "8ba56290",
   "metadata": {},
   "outputs": [],
   "source": [
    "train_data = pq.ParquetDataset(train_data).read().to_pandas()\n",
    "val_data = pq.ParquetDataset(val_data).read().to_pandas()\n",
    "test_data = pq.ParquetDataset(test_data).read().to_pandas()"
   ]
  },
  {
   "cell_type": "code",
   "execution_count": 4,
   "id": "47fe838c",
   "metadata": {},
   "outputs": [],
   "source": [
    "target_col = 'class'\n",
    "label_col = 'class_label'"
   ]
  },
  {
   "cell_type": "code",
   "execution_count": 5,
   "id": "9888ee7e",
   "metadata": {},
   "outputs": [
    {
     "name": "stdout",
     "output_type": "stream",
     "text": [
      "There are 364 features available to the model\n"
     ]
    }
   ],
   "source": [
    "cov_idx = (list(train_data.columns).index(label_col) + 1)\n",
    "covs = train_data.columns[cov_idx:]\n",
    "print(f'There are {len(covs)} features available to the model')"
   ]
  },
  {
   "cell_type": "code",
   "execution_count": 6,
   "id": "f036db73",
   "metadata": {},
   "outputs": [],
   "source": [
    "X = train_data[covs].to_numpy()\n",
    "y = train_data[target_col].to_numpy()"
   ]
  },
  {
   "cell_type": "code",
   "execution_count": 7,
   "id": "2d6dd14a",
   "metadata": {},
   "outputs": [],
   "source": [
    "X_val = val_data[covs].to_numpy()\n",
    "y_val = val_data[target_col].to_numpy()"
   ]
  },
  {
   "cell_type": "code",
   "execution_count": 18,
   "id": "7f736614",
   "metadata": {},
   "outputs": [],
   "source": [
    "X_test = test_data[covs].to_numpy()"
   ]
  },
  {
   "cell_type": "markdown",
   "id": "7adbe1d7",
   "metadata": {},
   "source": [
    "### Define Positinal Encoding"
   ]
  },
  {
   "cell_type": "code",
   "execution_count": 8,
   "id": "ec194397",
   "metadata": {},
   "outputs": [],
   "source": [
    "def positional_encoding(data,l=4):\n",
    "    num_features = data.shape[1]\n",
    "    for each_l in range(l):\n",
    "        data = np.concatenate((data,\n",
    "                               np.sin(np.power(2,each_l)*np.pi*data),\n",
    "                               np.cos(np.power(2,each_l)*np.pi*data)),axis=1)\n",
    "        \n",
    "    return data\n",
    "        "
   ]
  },
  {
   "cell_type": "markdown",
   "id": "ff2ca163",
   "metadata": {},
   "source": [
    "## Run Random Forest Experiments"
   ]
  },
  {
   "cell_type": "code",
   "execution_count": 9,
   "id": "f1a4f2cd",
   "metadata": {},
   "outputs": [],
   "source": [
    "from sklearn.ensemble import RandomForestClassifier\n",
    "from sklearn.metrics import classification_report"
   ]
  },
  {
   "cell_type": "code",
   "execution_count": 10,
   "id": "68f2c34d",
   "metadata": {},
   "outputs": [],
   "source": [
    "X_sin_cosin_train = positional_encoding(X)\n",
    "X_sin_cosin_val = positional_encoding(X_val)\n",
    "X_sin_cosin_test = positional_encoding(X_test)"
   ]
  },
  {
   "cell_type": "code",
   "execution_count": 11,
   "id": "4905ec29",
   "metadata": {},
   "outputs": [],
   "source": [
    "rf = RandomForestClassifier(random_state=1989)\n",
    "rf.fit(X_sin_cosin_train,y)"
   ]
  },
  {
   "cell_type": "code",
   "execution_count": 15,
   "id": "0f750cc3",
   "metadata": {},
   "outputs": [
    {
     "name": "stdout",
     "output_type": "stream",
     "text": [
      "              precision    recall  f1-score   support\n",
      "\n",
      "           1       0.84      0.50      0.63       205\n",
      "           2       0.82      0.29      0.43       138\n",
      "           3       0.80      0.97      0.88       824\n",
      "\n",
      "    accuracy                           0.81      1167\n",
      "   macro avg       0.82      0.59      0.64      1167\n",
      "weighted avg       0.81      0.81      0.78      1167\n",
      "\n"
     ]
    }
   ],
   "source": [
    "y_pred = rf.predict(X_sin_cosin_val)\n",
    "print(classification_report(y_val,y_pred))"
   ]
  },
  {
   "cell_type": "code",
   "execution_count": 21,
   "id": "102bc67b",
   "metadata": {},
   "outputs": [],
   "source": [
    "y_pred_test = rf.predict(X_sin_cosin_test)\n",
    "result = pd.DataFrame({'pred' : y_pred_test,\n",
    "                        'id' : test_data.index})"
   ]
  },
  {
   "cell_type": "code",
   "execution_count": 22,
   "id": "88bb8982",
   "metadata": {},
   "outputs": [
    {
     "data": {
      "text/html": [
       "<div>\n",
       "<style scoped>\n",
       "    .dataframe tbody tr th:only-of-type {\n",
       "        vertical-align: middle;\n",
       "    }\n",
       "\n",
       "    .dataframe tbody tr th {\n",
       "        vertical-align: top;\n",
       "    }\n",
       "\n",
       "    .dataframe thead th {\n",
       "        text-align: right;\n",
       "    }\n",
       "</style>\n",
       "<table border=\"1\" class=\"dataframe\">\n",
       "  <thead>\n",
       "    <tr style=\"text-align: right;\">\n",
       "      <th></th>\n",
       "      <th>pred</th>\n",
       "      <th>id</th>\n",
       "    </tr>\n",
       "  </thead>\n",
       "  <tbody>\n",
       "    <tr>\n",
       "      <th>0</th>\n",
       "      <td>3</td>\n",
       "      <td>147396</td>\n",
       "    </tr>\n",
       "    <tr>\n",
       "      <th>1</th>\n",
       "      <td>3</td>\n",
       "      <td>147591</td>\n",
       "    </tr>\n",
       "    <tr>\n",
       "      <th>2</th>\n",
       "      <td>3</td>\n",
       "      <td>147597</td>\n",
       "    </tr>\n",
       "    <tr>\n",
       "      <th>3</th>\n",
       "      <td>3</td>\n",
       "      <td>147603</td>\n",
       "    </tr>\n",
       "    <tr>\n",
       "      <th>4</th>\n",
       "      <td>3</td>\n",
       "      <td>147609</td>\n",
       "    </tr>\n",
       "    <tr>\n",
       "      <th>...</th>\n",
       "      <td>...</td>\n",
       "      <td>...</td>\n",
       "    </tr>\n",
       "    <tr>\n",
       "      <th>1306</th>\n",
       "      <td>3</td>\n",
       "      <td>898573</td>\n",
       "    </tr>\n",
       "    <tr>\n",
       "      <th>1307</th>\n",
       "      <td>3</td>\n",
       "      <td>898579</td>\n",
       "    </tr>\n",
       "    <tr>\n",
       "      <th>1308</th>\n",
       "      <td>3</td>\n",
       "      <td>898706</td>\n",
       "    </tr>\n",
       "    <tr>\n",
       "      <th>1309</th>\n",
       "      <td>3</td>\n",
       "      <td>898713</td>\n",
       "    </tr>\n",
       "    <tr>\n",
       "      <th>1310</th>\n",
       "      <td>3</td>\n",
       "      <td>898737</td>\n",
       "    </tr>\n",
       "  </tbody>\n",
       "</table>\n",
       "<p>1311 rows × 2 columns</p>\n",
       "</div>"
      ],
      "text/plain": [
       "      pred      id\n",
       "0        3  147396\n",
       "1        3  147591\n",
       "2        3  147597\n",
       "3        3  147603\n",
       "4        3  147609\n",
       "...    ...     ...\n",
       "1306     3  898573\n",
       "1307     3  898579\n",
       "1308     3  898706\n",
       "1309     3  898713\n",
       "1310     3  898737\n",
       "\n",
       "[1311 rows x 2 columns]"
      ]
     },
     "execution_count": 22,
     "metadata": {},
     "output_type": "execute_result"
    }
   ],
   "source": [
    "result"
   ]
  },
  {
   "cell_type": "code",
   "execution_count": 23,
   "id": "b4ba0765",
   "metadata": {},
   "outputs": [],
   "source": [
    "result.to_csv('random_forest_with_positional_encoding.csv')"
   ]
  },
  {
   "cell_type": "code",
   "execution_count": null,
   "id": "92a99724",
   "metadata": {},
   "outputs": [],
   "source": []
  }
 ],
 "metadata": {
  "kernelspec": {
   "display_name": "Python 3 (ipykernel)",
   "language": "python",
   "name": "python3"
  },
  "language_info": {
   "codemirror_mode": {
    "name": "ipython",
    "version": 3
   },
   "file_extension": ".py",
   "mimetype": "text/x-python",
   "name": "python",
   "nbconvert_exporter": "python",
   "pygments_lexer": "ipython3",
   "version": "3.8.10"
  }
 },
 "nbformat": 4,
 "nbformat_minor": 5
}
